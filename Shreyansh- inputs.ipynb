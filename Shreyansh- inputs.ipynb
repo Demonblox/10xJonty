{
 "cells": [
  {
   "cell_type": "code",
   "execution_count": 1,
   "id": "51366800",
   "metadata": {},
   "outputs": [
    {
     "name": "stdout",
     "output_type": "stream",
     "text": [
      "Jarvis: Welcome, sir\n",
      "Jarvis: Welcome, sir\n",
      "Jarvis: Welcome, sir\n"
     ]
    }
   ],
   "source": [
    "# Jarvis Greeting\n",
    "for x in range (3):\n",
    "    print(\"Jarvis: Welcome, sir\")"
   ]
  },
  {
   "cell_type": "code",
   "execution_count": 2,
   "id": "5f458007",
   "metadata": {},
   "outputs": [
    {
     "name": "stdout",
     "output_type": "stream",
     "text": [
      "Iron man fires repulsor blast # 1 !\n",
      "Iron man fires repulsor blast # 2 !\n",
      "Iron man fires repulsor blast # 3 !\n",
      "Iron man fires repulsor blast # 4 !\n",
      "Iron man fires repulsor blast # 5 !\n"
     ]
    }
   ],
   "source": [
    "# Repulsor Blast Sequence\n",
    "for blast_number in range (1,6):\n",
    "    print (\"Iron man fires repulsor blast #\",blast_number,\"!\")\n",
    "    "
   ]
  },
  {
   "cell_type": "code",
   "execution_count": 3,
   "id": "dc320d2f",
   "metadata": {},
   "outputs": [
    {
     "name": "stdout",
     "output_type": "stream",
     "text": [
      "Iron Man's Flight Path:\n",
      "Stark Tower\n",
      "Avengers Headquarters\n",
      "S.H.I.E.L.D\n",
      "Helicarrier\n",
      "Malibu Mansion\n"
     ]
    }
   ],
   "source": [
    "#flight path display\n",
    "flight_path = [\"Stark Tower\",\"Avengers Headquarters\",\"S.H.I.E.L.D\",\"Helicarrier\", \"Malibu Mansion\"]\n",
    "\n",
    "print (\"Iron Man's Flight Path:\")\n",
    "for location in flight_path:\n",
    "    print(location)"
   ]
  },
  {
   "cell_type": "code",
   "execution_count": 5,
   "id": "8ae8f506",
   "metadata": {},
   "outputs": [
    {
     "name": "stdout",
     "output_type": "stream",
     "text": [
      "Initiating repulsor suit upgrade sequence: \n",
      "Upgrade in  5 seconds...\n",
      "Upgrade in  4 seconds...\n",
      "Upgrade in  3 seconds...\n",
      "Upgrade in  2 seconds...\n",
      "Upgrade in  1 seconds...\n",
      "Upgrade complete. Suit is now at maximum efficiency.\n"
     ]
    }
   ],
   "source": [
    "#Repulsor Suit Upgrade Countdown\n",
    "print(\"Initiating repulsor suit upgrade sequence: \")\n",
    "\n",
    "for seconds in range(5,0,-1):\n",
    "    print(\"Upgrade in \",seconds, \"seconds...\")\n",
    "    \n",
    "print(\"Upgrade complete. Suit is now at maximum efficiency.\")    "
   ]
  },
  {
   "cell_type": "code",
   "execution_count": 10,
   "id": "584af7b5",
   "metadata": {
    "scrolled": false
   },
   "outputs": [
    {
     "name": "stdout",
     "output_type": "stream",
     "text": [
      "Charging repulsor blasters...( 0 )%\n",
      "Charging repulsor blasters...( 20 )%\n",
      "Charging repulsor blasters...( 40 )%\n",
      "Charging repulsor blasters...( 60 )%\n",
      "Charging repulsor blasters...( 80 )%\n",
      "Repulsor blasters fully charged. Ready to fire!\n"
     ]
    }
   ],
   "source": [
    "#Repulsor Charge Calibration\n",
    "charge_level = 0\n",
    "\n",
    "while charge_level < 100:\n",
    "    print(\"Charging repulsor blasters...(\",charge_level,\")%\")\n",
    "    charge_level+= 20\n",
    "    \n",
    "print(\"Repulsor blasters fully charged. Ready to fire!\")    "
   ]
  },
  {
   "cell_type": "code",
   "execution_count": 13,
   "id": "661a6bcc",
   "metadata": {
    "scrolled": true
   },
   "outputs": [
    {
     "name": "stdout",
     "output_type": "stream",
     "text": [
      "2\n",
      "4\n",
      "6\n",
      "8\n",
      "10\n"
     ]
    }
   ],
   "source": [
    "#Using continue to skip certain actions\n",
    "for number in range(1,11):\n",
    "    if number % 2 == 1 :\n",
    "        continue #skip odd numbers\n",
    "    print(number)\n",
    "\n",
    "#Outut will be 1,3,5,7,9"
   ]
  },
  {
   "cell_type": "code",
   "execution_count": 15,
   "id": "f0b1aaf8",
   "metadata": {},
   "outputs": [
    {
     "name": "stdout",
     "output_type": "stream",
     "text": [
      "1\n",
      "2\n",
      "3\n",
      "4\n"
     ]
    }
   ],
   "source": [
    "#using break to exit a loop early\n",
    "for number in range(1,11):\n",
    "    if number ==5:\n",
    "        break # Exit the loop when number is 5\n",
    "    print (number)\n",
    "        \n",
    "    #Output will be 1,2,3,4\n",
    "    \n",
    "    1\n",
    "    2\n",
    "    3\n",
    "    4"
   ]
  },
  {
   "cell_type": "code",
   "execution_count": 1,
   "id": "4f941091",
   "metadata": {},
   "outputs": [
    {
     "name": "stdout",
     "output_type": "stream",
     "text": [
      "Enter a number:  346\n",
      "Enter a number:  5756768\n",
      "5756768 346\n"
     ]
    }
   ],
   "source": [
    "a= int(input(\"Enter a number:  \"))\n",
    "b= int(input(\"Enter a number:  \"))\n",
    "c=a\n",
    "a=b\n",
    "b=c\n",
    "print(a,b)"
   ]
  },
  {
   "cell_type": "code",
   "execution_count": 20,
   "id": "a045661d",
   "metadata": {},
   "outputs": [
    {
     "name": "stdout",
     "output_type": "stream",
     "text": [
      "Enter a number1\n",
      "0\n",
      "1\n"
     ]
    }
   ],
   "source": [
    "n=int(input(\"Enter a number\"))\n",
    "a=0\n",
    "b=1\n",
    "print(a)\n",
    "print(b)\n",
    "for i in range(2,n):\n",
    "    c=a+b\n",
    "    a=b\n",
    "    b=c\n",
    "\n",
    "    print(c)\n",
    "\n"
   ]
  },
  {
   "cell_type": "code",
   "execution_count": 22,
   "id": "9bcfa602",
   "metadata": {},
   "outputs": [],
   "source": [
    "#make a list and print all even numbers"
   ]
  },
  {
   "cell_type": "code",
   "execution_count": null,
   "id": "5090130c",
   "metadata": {},
   "outputs": [],
   "source": [
    "for i in range(2):\n",
    "    print(\"Ooh la la\")"
   ]
  },
  {
   "cell_type": "code",
   "execution_count": null,
   "id": "29e928e1",
   "metadata": {},
   "outputs": [],
   "source": [
    "# This function adds two numbers\n",
    "def add(x, y):\n",
    "    return x + y\n",
    "\n",
    "# This function subtracts two numbers\n",
    "def subtract(x, y):\n",
    "    return x - y\n",
    "\n",
    "# This function multiplies two numbers\n",
    "def multiply(x, y):\n",
    "    return x * y\n",
    "\n",
    "# This function divides two numbers\n",
    "def divide(x, y):\n",
    "    return x / y\n",
    "\n",
    "\n",
    "print(\"Select operation.\")\n",
    "print(\"1.Add\")\n",
    "print(\"2.Subtract\")\n",
    "print(\"3.Multiply\")\n",
    "print(\"4.Divide\")\n",
    "\n",
    "while True:\n",
    "    # take input from the user\n",
    "    choice = input(\"Enter choice(1/2/3/4): \")\n",
    "\n",
    "    # check if choice is one of the four options\n",
    "    if choice in ('1', '2', '3', '4'):\n",
    "        try:\n",
    "            num1 = float(input(\"Enter first number: \"))\n",
    "            num2 = float(input(\"Enter second number: \"))\n",
    "        except ValueError:\n",
    "            print(\"Invalid input. Please enter a number.\")\n",
    "            continue\n",
    "\n",
    "        if choice == '1':\n",
    "            print(num1, \"+\", num2, \"=\", add(num1, num2))\n",
    "\n",
    "        elif choice == '2':\n",
    "            print(num1, \"-\", num2, \"=\", subtract(num1, num2))\n",
    "\n",
    "        elif choice == '3':\n",
    "            print(num1, \"*\", num2, \"=\", multiply(num1, num2))\n",
    "\n",
    "        elif choice == '4':\n",
    "            print(num1, \"/\", num2, \"=\", divide(num1, num2))\n",
    "        \n",
    "        # check if user wants another calculation\n",
    "        # break the while loop if answer is no\n",
    "        next_calculation = input(\"Let's do next calculation? (yes/no): \")\n",
    "        if next_calculation == \"no\":\n",
    "          break\n",
    "    else:\n",
    "        print(\"Invalid Input\")"
   ]
  },
  {
   "cell_type": "code",
   "execution_count": null,
   "id": "0ffc4ff1",
   "metadata": {},
   "outputs": [],
   "source": [
    "#This will print the numbers from an input to 100."
   ]
  },
  {
   "cell_type": "code",
   "execution_count": 8,
   "id": "cff22b25",
   "metadata": {},
   "outputs": [
    {
     "name": "stdout",
     "output_type": "stream",
     "text": [
      "My name is Shreyansh my age is  11 and I live in Pune\n"
     ]
    }
   ],
   "source": [
    "name=\"Shreyansh\"\n",
    "age=\"11\"\n",
    "city=\"Pune\"\n",
    "print(\"My name is\", name ,\"my age is \",age,\"and I live in\",city)"
   ]
  },
  {
   "cell_type": "code",
   "execution_count": 11,
   "id": "610d2e0b",
   "metadata": {},
   "outputs": [
    {
     "name": "stdout",
     "output_type": "stream",
     "text": [
      "The temprature in Pune is 21 deg C and the weather is Cloudy\n"
     ]
    }
   ],
   "source": [
    "city=\"Pune\"\n",
    "temp=21\n",
    "temp_unit=\"deg C\"\n",
    "weath_condition=\"Cloudy\"\n",
    "print (\"The temprature in\", city, \"is\" , temp ,  temp_unit , \"and the weather is\", weath_condition)"
   ]
  },
  {
   "cell_type": "code",
   "execution_count": 2,
   "id": "73810fdc",
   "metadata": {},
   "outputs": [
    {
     "name": "stdout",
     "output_type": "stream",
     "text": [
      "How many pizzas do you want to order?5\n",
      "What is the cost of your pizza ?700\n",
      "The total cost of your order is 3500.0\n",
      "3150.0\n"
     ]
    }
   ],
   "source": [
    "no_of_pizzas=int(input(\"How many pizzas do you want to order?\"))\n",
    "cost_of_pizza=float(input(\"What is the cost of your pizza ?\"))\n",
    "total=no_of_pizzas * cost_of_pizza\n",
    "total_cost_of_pizza= print(\"The total cost of your order is\",total)\n",
    "if (no_of_pizzas >= 3) :\n",
    "    total-=(total/10)\n",
    "    print(total)\n",
    "no_people=int(input(\"How many people are present in your party?\"))\n",
    "total_cost_of_pizza="
   ]
  },
  {
   "cell_type": "code",
   "execution_count": null,
   "id": "6c5d81dc",
   "metadata": {},
   "outputs": [],
   "source": []
  },
  {
   "cell_type": "code",
   "execution_count": 10,
   "id": "75658357",
   "metadata": {},
   "outputs": [
    {
     "name": "stdout",
     "output_type": "stream",
     "text": [
      "Enter mission:  h\n",
      "Iron man, your mission is to:  h  Good luck\n"
     ]
    }
   ],
   "source": [
    "def mission_briefing(mission):\n",
    "    return \"Iron man, your mission is to:  \" + mission + \"  Good luck\"\n",
    "mission_description= input(\"Enter mission:  \")\n",
    "briefing_message= mission_briefing(mission_description)\n",
    "#Display the result \n",
    "print(briefing_message)"
   ]
  },
  {
   "cell_type": "code",
   "execution_count": 3,
   "id": "d5ca1d3d",
   "metadata": {},
   "outputs": [],
   "source": [
    "def mission_briefing(hero , mission , mission_description):\n",
    "    return hero+\" , your mission is to\" + mission+\" - \"+mission_description+ \". Good luck!\"\n",
    "hero_name= \"Iron Man\"\n",
    "specific_mission=\"retreive the kidnapped children\"\n",
    "mission_description= \"From Zhong Li's basement \""
   ]
  },
  {
   "cell_type": "code",
   "execution_count": null,
   "id": "e993b3a0",
   "metadata": {},
   "outputs": [],
   "source": []
  }
 ],
 "metadata": {
  "kernelspec": {
   "display_name": "Python 3 (ipykernel)",
   "language": "python",
   "name": "python3"
  },
  "language_info": {
   "codemirror_mode": {
    "name": "ipython",
    "version": 3
   },
   "file_extension": ".py",
   "mimetype": "text/x-python",
   "name": "python",
   "nbconvert_exporter": "python",
   "pygments_lexer": "ipython3",
   "version": "3.11.5"
  }
 },
 "nbformat": 4,
 "nbformat_minor": 5
}
