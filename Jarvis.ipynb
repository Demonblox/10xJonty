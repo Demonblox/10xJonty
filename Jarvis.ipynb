{
 "cells": [
  {
   "cell_type": "code",
   "execution_count": null,
   "id": "3f39eb5a",
   "metadata": {},
   "outputs": [
    {
     "name": "stdout",
     "output_type": "stream",
     "text": [
      "Jarvis: Hi there! How may I help you?\n",
      "You: hello\n"
     ]
    }
   ],
   "source": [
    "#Create a simplified dictionary of responses\n",
    "import pyttsx3 as pyt\n",
    "    \n",
    "#Initialize the text to speech engine\n",
    "engine = pyt.init()\n",
    "responses = {\n",
    "    \"hello\": \"Hi there!\",\n",
    "    \"how are you\": \"I'm a computer program , but I'm here to help!\",\n",
    "    \"Hi\":\"Hi!\"}\n",
    "rate = engine.getProperty('rate')\n",
    "engine.setProperty('rate', rate - 50 )\n",
    "\n",
    "\n",
    "#Function to get Jarvi's response based on user input\n",
    "def get_jarvis(user_input):\n",
    "    response = responses.get(user_input,\"I'm not sure how to respond to that.\")\n",
    "    return response\n",
    "#Function to initiate the chat with jarvis\n",
    "def start_chat():\n",
    "    print(\"Jarvis: Hi there! How may I help you?\")\n",
    "    while True:\n",
    "        user_input = input(\"You: \").lower()\n",
    "        if user_input== \"bye\":\n",
    "            #print (\"Jarvis: Goodbye! Have a great day!\")\n",
    "            engine.say(\"Goodbye, have a great day.\")\n",
    "            engine.runAndWait()\n",
    "            \n",
    "            break\n",
    "        response = get_jarvis(user_input)\n",
    "        #Print(\"Jarvis , response\")\n",
    "        engine.say(\"Goodbye! Have a great day!\")\n",
    "        engine.runAndWait()\n",
    "start_chat()\n",
    "  "
   ]
  },
  {
   "cell_type": "code",
   "execution_count": null,
   "id": "cb8d92bf",
   "metadata": {},
   "outputs": [],
   "source": [
    "#response={\"hello\":\"Hi there\",\"how are you\":\"Being a computer programm I am unable to express feeling\",\"who are you\":\"I am a AI system here to help\"}\n",
    "def get_jarvis_response(key):\n",
    "    says=response.get(key,\"Please enter a valid input\")\n",
    "    return says\n",
    "def start_chat():\n",
    "    print(\"Jarvis:Hi there I am your AI\")\n",
    "while True:\n",
    "    key=str(input(\"You: \")).lower()\n",
    "    if key==\"bye\":\n",
    "        print(\"Goodbye see you soon\")\n",
    "        break\n",
    "    says=get_jarvis_response(key)\n",
    "    print(\"Jarvis:\",says)\n",
    "    \n"
   ]
  },
  {
   "cell_type": "code",
   "execution_count": null,
   "id": "6f5649c9",
   "metadata": {},
   "outputs": [],
   "source": [
    "pip install pyttsx3"
   ]
  },
  {
   "cell_type": "code",
   "execution_count": null,
   "id": "6e3035af",
   "metadata": {},
   "outputs": [],
   "source": [
    "#Create a simplified dictionary of responses\n",
    "import pyttsx3 as pyt\n",
    "    \n",
    "#Initialize the text to speech engine\n",
    "engine = pyt.init()\n",
    "responses = {\n",
    "    \"hello\": \"Hi there!\",\n",
    "    \"how are you\": \"I'm a computer program , but I'm here to help!\",\n",
    "    \"Hi\":\"Hi!\"\n",
    "}\n",
    "rate = engine.getProperty('rate')\n",
    "engine.setProperty('rate', rate - 50 )\n",
    "\n",
    "\n",
    "#Function to get Jarvi's response based on user input\n",
    "def get_jarvis(user_input):\n",
    "    response = responses.get(user_input,\"I'm not sure how to respond to that.\")\n",
    "    return response\n",
    "#Function to initiate the chat with jarvis\n",
    "def start_chat():\n",
    "    print(\"Jarvis: Hi there! How may I help you?\")\n",
    "    while True:\n",
    "        user_input = input(\"You: \").lower()\n",
    "        if user_input== \"bye\":\n",
    "            #print (\"Jarvis: Goodbye! Have a great day!\")\n",
    "            engine.say(\"Goodbye, have a great day.\")\n",
    "            engine.runAndWait()\n",
    "            \n",
    "            break\n",
    "        response = get_jarvis(user_input)\n",
    "        #Print(\"Jarvis , response\")\n",
    "        engine.say(\"Goodbye! Have a great day!\")\n",
    "        engine.runAndWait()\n",
    "start_chat()"
   ]
  },
  {
   "cell_type": "code",
   "execution_count": null,
   "id": "0e2097ad",
   "metadata": {},
   "outputs": [],
   "source": []
  }
 ],
 "metadata": {
  "kernelspec": {
   "display_name": "Python 3 (ipykernel)",
   "language": "python",
   "name": "python3"
  },
  "language_info": {
   "codemirror_mode": {
    "name": "ipython",
    "version": 3
   },
   "file_extension": ".py",
   "mimetype": "text/x-python",
   "name": "python",
   "nbconvert_exporter": "python",
   "pygments_lexer": "ipython3",
   "version": "3.11.5"
  }
 },
 "nbformat": 4,
 "nbformat_minor": 5
}
